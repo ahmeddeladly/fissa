{
 "cells": [
  {
   "cell_type": "markdown",
   "metadata": {},
   "source": [
    "# Object-oriented FISSA interface"
   ]
  },
  {
   "cell_type": "markdown",
   "metadata": {},
   "source": [
    "This notebook contains a step-by-step example of how to use the object-oriented (class-based) interface to the [FISSA](https://github.com/rochefort-lab/fissa) toolbox.\n",
    "\n",
    "For more details about the methodology behind FISSA, please see our paper:\n",
    "> S. W. Keemink, S. C. Lowe, J. M. P. Pakan, E. Dylda, M. C. W. van Rossum, and N. L. Rochefort. FISSA: A neuropil decontamination toolbox for calcium imaging signals, *Scientific Reports*, **8**(1):3493, 2018. doi: [10.1038/s41598-018-21640-2](https://www.doi.org/10.1038/s41598-018-21640-2).\n",
    "\n",
    "See [basic_usage.py](https://github.com/rochefort-lab/fissa/blob/master/examples/basic_usage.py) (or [basic_usage_windows.py](https://github.com/rochefort-lab/fissa/blob/master/examples/basic_usage_windows.py) for Windows users) for a short example script outside of a notebook interface."
   ]
  },
  {
   "cell_type": "markdown",
   "metadata": {},
   "source": [
    "### Import packages"
   ]
  },
  {
   "cell_type": "code",
   "execution_count": null,
   "metadata": {},
   "outputs": [],
   "source": [
    "# Import the FISSA toolbox\n",
    "import fissa"
   ]
  },
  {
   "cell_type": "code",
   "execution_count": null,
   "metadata": {},
   "outputs": [],
   "source": [
    "# For plotting our results, import numpy and matplotlib\n",
    "import matplotlib.pyplot as plt\n",
    "import numpy as np"
   ]
  },
  {
   "cell_type": "code",
   "execution_count": null,
   "metadata": {},
   "outputs": [],
   "source": [
    "# Fetch the colormap object for Cynthia Brewer's Paired color scheme\n",
    "cmap = plt.get_cmap(\"Paired\")"
   ]
  },
  {
   "cell_type": "markdown",
   "metadata": {},
   "source": [
    "## Defining an experiment\n",
    "\n",
    "To run a separation step with fissa, you need create a `fissa.Experiment` object, which will hold your extraction parameters and results.\n",
    "\n",
    "The inputs to the `fissa.Experiment` instance are the:\n",
    "- experiment images\n",
    "- the regions of interest (ROIs) to extract\n",
    "Define your inputs. All that's necessary to define are the image data and ROIs. \n",
    "\n",
    "Images can be defined as a folder with tiff stacks:\n",
    "```python\n",
    "images = \"folder\"\n",
    "```\n",
    "Where each tiff stack in the folder is a trial with several frames.\n",
    "\n",
    "Or the data can also be given as a list of arrays if not stored as tiffs:\n",
    "```python\n",
    "images = [array1, array2, array3, ...]\n",
    "```\n",
    "\n",
    "For ROIs either a set of ROIs across all images should be defined, or a set of ROIs per image. \n",
    "\n",
    "If the ROIs were defined using ImageJ use ImageJ's export function to save them in a zip. Then, indicate the locations as a list:\n",
    "```python\n",
    "rois = \"rois.zip\"  # for a single set of rois across images\n",
    "rois = [\"rois1.zip\", \"rois2.zip\", ...]  # for a roiset for each image\n",
    "```\n",
    "Defining a different roiset per image can be useful if you need to adjust for motion drift for example.\n",
    "\n",
    "Then, we can define our experiment:"
   ]
  },
  {
   "cell_type": "code",
   "execution_count": null,
   "metadata": {},
   "outputs": [],
   "source": [
    "# Define the folder where FISSA's outputs will be cached, so they can be\n",
    "# quickly reloaded in the future without having to recompute them.\n",
    "#\n",
    "# This argument is optional; if it is not provided, FISSA will not save its\n",
    "# results for later use.\n",
    "#\n",
    "# Note: you *must* use a different folder for each experiment,\n",
    "# otherwise FISSA will load in the folder provided instead\n",
    "# of computing results for the new experiment.\n",
    "\n",
    "output_folder = \"fissa-example\""
   ]
  },
  {
   "cell_type": "code",
   "execution_count": null,
   "metadata": {},
   "outputs": [],
   "source": [
    "# Define image and ROI locations\n",
    "images_location = \"exampleData/20150529\"\n",
    "rois_location = \"exampleData/20150429.zip\"\n",
    "\n",
    "experiment = fissa.Experiment(images_location, rois_location, output_folder)"
   ]
  },
  {
   "cell_type": "markdown",
   "metadata": {},
   "source": [
    "Previously analyzed experiments in output_folder will be loaded, if they exist, and the next step could be skipped."
   ]
  },
  {
   "cell_type": "markdown",
   "metadata": {},
   "source": [
    "### Extracting traces and separating them\n",
    "Next, we need to extract the traces and separate them:"
   ]
  },
  {
   "cell_type": "code",
   "execution_count": null,
   "metadata": {},
   "outputs": [],
   "source": [
    "experiment.separate()"
   ]
  },
  {
   "cell_type": "markdown",
   "metadata": {},
   "source": [
    "If you want to redo preparation and/or separation you can set:\n",
    "```\n",
    "experiment.separate(redo_prep=True, redo_sep=True)\n",
    "```\n",
    "(If you redo prepartion this will also redo the separation, to make sure these always match up)."
   ]
  },
  {
   "cell_type": "markdown",
   "metadata": {},
   "source": [
    "## Accessing results\n",
    "\n",
    "After running ```experiment.separate()``` the results are stored as follows."
   ]
  },
  {
   "cell_type": "markdown",
   "metadata": {},
   "source": [
    "### Mean image\n",
    "\n",
    "You can get the temporal-mean image for a trial with `experiment.means`, which we plot below."
   ]
  },
  {
   "cell_type": "code",
   "execution_count": null,
   "metadata": {},
   "outputs": [],
   "source": [
    "trial = 0\n",
    "# Plot the mean image for one of the trials\n",
    "plt.figure(figsize=(7, 7))\n",
    "plt.imshow(experiment.means[trial], cmap=\"gray\")\n",
    "plt.title(\"Mean over Trial {}\".format(trial))\n",
    "plt.show()"
   ]
  },
  {
   "cell_type": "code",
   "execution_count": null,
   "metadata": {},
   "outputs": [],
   "source": [
    "# Plot the mean image over all the trials\n",
    "plt.figure(figsize=(7, 7))\n",
    "plt.imshow(np.mean(experiment.means, axis=0), cmap=\"gray\")\n",
    "plt.title(\"Mean over all trials\")\n",
    "plt.show()"
   ]
  },
  {
   "cell_type": "markdown",
   "metadata": {},
   "source": [
    "### ROI outlines\n",
    "\n",
    "The ROI outlines, as well as the extra neuropil regions, can be found as in ```experiment.roi_polys``` as follows. For cell number ```c``` and tiff number `t`, the set of ROIs for that cell and tiff is at\n",
    "```python\n",
    "experiment.roi_polys[c][t][0][0]  # basic ROI\n",
    "experiment.roi_polys[c][t][n][0]  # n = 1, 2, 3, ... the neuropil regions\n",
    "```\n",
    "Sometimes ROIs cannot be expressed as a single polygon (e.g. a ring-ROI), in those cases several polygons are used to describe it as:\n",
    "```python\n",
    "experiment.roi_polys[c][t][n][i]  # i iterates over the different polygons\n",
    "```\n",
    "\n",
    "As an example, plotting the first region of interest plus its surrounding neuropil subregions, overlaid on top of the mean image for one trial."
   ]
  },
  {
   "cell_type": "code",
   "execution_count": null,
   "metadata": {},
   "outputs": [],
   "source": [
    "# Plot one ROI along with its neuropil regions\n",
    "\n",
    "# Select which ROI and trial to plot\n",
    "trial = 0\n",
    "roi = 3\n",
    "\n",
    "# Plot the mean image for the trial\n",
    "plt.figure(figsize=(7, 7))\n",
    "plt.imshow(experiment.means[trial], cmap=\"gray\")\n",
    "# Get axes limits\n",
    "XLIM = plt.xlim()\n",
    "YLIM = plt.ylim()\n",
    "\n",
    "# Check the number of neuropil\n",
    "n_npil = len(experiment.roi_polys[roi, trial]) - 1\n",
    "\n",
    "# Plot all the neuropil regions in yellow\n",
    "for i_npil in range(1, n_npil + 1):\n",
    "    for contour in experiment.roi_polys[roi, trial][i_npil]:\n",
    "        plt.fill(\n",
    "            contour[:, 1],\n",
    "            contour[:, 0],\n",
    "            facecolor=\"none\",\n",
    "            edgecolor=\"y\",\n",
    "            alpha=0.6,\n",
    "        )\n",
    "\n",
    "# Plot the ROI outline in red\n",
    "for contour in experiment.roi_polys[roi, trial][0]:\n",
    "    plt.fill(\n",
    "        contour[:, 1],\n",
    "        contour[:, 0],\n",
    "        facecolor=\"none\",\n",
    "        edgecolor=\"r\",\n",
    "        alpha=0.6,\n",
    "    )\n",
    "\n",
    "# Reset axes limits\n",
    "plt.xlim(XLIM)\n",
    "plt.ylim(YLIM)\n",
    "\n",
    "plt.title(\"ROI {}, and its {} neuropil regions\".format(roi, experiment.nRegions))\n",
    "plt.show()"
   ]
  },
  {
   "cell_type": "code",
   "execution_count": null,
   "metadata": {},
   "outputs": [],
   "source": [
    "# Plot all cell ROI locations\n",
    "\n",
    "# Select which trial (TIFF index) to plot\n",
    "trial = 0\n",
    "\n",
    "# Plot the mean image for the trial\n",
    "plt.figure(figsize=(7, 7))\n",
    "plt.imshow(experiment.means[trial], cmap=\"gray\")\n",
    "\n",
    "# Plot each of the cell ROIs\n",
    "for i_roi in range(len(experiment.roi_polys)):\n",
    "    # Plot border around ROI\n",
    "    for contour in experiment.roi_polys[i_roi, trial][0]:\n",
    "        plt.plot(\n",
    "            contour[:, 1],\n",
    "            contour[:, 0],\n",
    "            color=cmap((i_roi * 2 + 1) % cmap.N),\n",
    "        )\n",
    "\n",
    "plt.show()"
   ]
  },
  {
   "cell_type": "markdown",
   "metadata": {},
   "source": [
    "### FISSA extracted traces\n",
    "\n",
    "The final extracted traces can be found in ```experiment.result``` as follows. For cell number ```c``` and tiff number `t`, the final extracted trace is given by:\n",
    "```python\n",
    "experiment.result[c][t][0, :]\n",
    "```\n",
    "\n",
    "In `experiment.result` one can find the signals present in the cell ROI, ordered by how strongly they are present (relative to the surrounding regions). `experiment.result[c][t][0, :]` gives the most strongly present signal, and is considered the cell's \"true\" signal. `[i, :]` for `i=1,2,3,...` gives the other signals which are present in the ROI, but driven by other cells or neuropil.\n",
    "\n",
    "### Before decontamination\n",
    "\n",
    "The raw extracted signals can be found in `experiment.raw` in the same way. Now in  `experiment.raw[c][t][i,:]`, `i` indicates the region number, with `i=0` being the cell, and `i=1,2,3,...` indicating the surrounding regions.\n",
    "\n",
    "As an example, plotting the raw and extracted signals for the second trial for the third cell:"
   ]
  },
  {
   "cell_type": "code",
   "execution_count": null,
   "metadata": {},
   "outputs": [],
   "source": [
    "# Plot sample trace\n",
    "\n",
    "# Select the ROI and trial to plot\n",
    "roi = 2\n",
    "trial = 1\n",
    "\n",
    "# Create the figure\n",
    "plt.figure(figsize=(12, 6))\n",
    "\n",
    "plt.plot(\n",
    "    experiment.raw[roi, trial][0, :], lw=2, label=\"Raw\", color=cmap((roi * 2) % cmap.N)\n",
    ")\n",
    "plt.plot(\n",
    "    experiment.result[roi, trial][0, :],\n",
    "    lw=2,\n",
    "    label=\"Decontaminated\",\n",
    "    color=cmap((roi * 2 + 1) % cmap.N),\n",
    ")\n",
    "\n",
    "plt.title(\"ROI {},  Trial {}\".format(roi, trial), fontsize=15)\n",
    "plt.xlabel(\"Time (frame number)\", fontsize=15)\n",
    "plt.ylabel(\"Signal intensity (candela per unit area)\", fontsize=15)\n",
    "plt.grid()\n",
    "plt.legend()\n",
    "plt.show()"
   ]
  },
  {
   "cell_type": "markdown",
   "metadata": {},
   "source": [
    "We can similarly plot raw and decontaminated traces for every ROI and every trial."
   ]
  },
  {
   "cell_type": "code",
   "execution_count": null,
   "metadata": {},
   "outputs": [],
   "source": [
    "# Plot all ROIs and trials\n",
    "\n",
    "# Get the number of ROIs and trials\n",
    "n_roi = experiment.result.shape[0]\n",
    "n_trial = experiment.result.shape[1]\n",
    "\n",
    "# Find the maximum signal intensities for each ROI\n",
    "roi_max_raw = [\n",
    "    np.max([np.max(experiment.raw[i_roi, i_trial][0]) for i_trial in range(n_trial)])\n",
    "    for i_roi in range(n_roi)\n",
    "]\n",
    "roi_max_result = [\n",
    "    np.max([np.max(experiment.result[i_roi, i_trial][0]) for i_trial in range(n_trial)])\n",
    "    for i_roi in range(n_roi)\n",
    "]\n",
    "roi_max = np.maximum(roi_max_raw, roi_max_result)\n",
    "\n",
    "# Plot our figure using subplot panels\n",
    "plt.figure(figsize=(16, 10))\n",
    "for i_roi in range(n_roi):\n",
    "    for i_trial in range(n_trial):\n",
    "        # Make subplot axes\n",
    "        i_subplot = 1 + i_trial * n_roi + i_roi\n",
    "        plt.subplot(n_trial, n_roi, i_subplot)\n",
    "        # Plot the data\n",
    "        plt.plot(\n",
    "            experiment.raw[i_roi][i_trial][0, :],\n",
    "            label=\"Raw\",\n",
    "            color=cmap((i_roi * 2) % cmap.N),\n",
    "        )\n",
    "        plt.plot(\n",
    "            experiment.result[i_roi][i_trial][0, :],\n",
    "            label=\"Decontaminated\",\n",
    "            color=cmap((i_roi * 2 + 1) % cmap.N),\n",
    "        )\n",
    "        # Labels and boiler plate\n",
    "        plt.ylim([-0.05 * roi_max[i_roi], roi_max[i_roi] * 1.05])\n",
    "        if i_roi == 0:\n",
    "            plt.ylabel(\n",
    "                \"Trial {}\\n\\nSignal intensity\\n(candela per unit area)\".format(\n",
    "                    i_trial + 1\n",
    "                )\n",
    "            )\n",
    "        if i_trial == 0:\n",
    "            plt.title(\"ROI {}\".format(i_roi))\n",
    "            plt.legend()\n",
    "        if i_trial == n_trial - 1:\n",
    "            plt.xlabel(\"Time (frame number)\")\n",
    "\n",
    "plt.show()"
   ]
  },
  {
   "cell_type": "markdown",
   "metadata": {},
   "source": [
    "The figure above shows the raw signal from the annotated ROI location (pale), and the result after decontaminating the signal with FISSA (dark).\n",
    "The hues match the ROI locations drawn above.\n",
    "Each column shows the results from one of the ROI, and each row shows the results from one of the three trials."
   ]
  },
  {
   "cell_type": "markdown",
   "metadata": {},
   "source": [
    "### Comparing ROI signal to neuripil region signals\n",
    "It can be very instructive to compare the signal in the central ROI with the surrounding neuropil regions. These can be found for cell `c` and trial `t` in `experiment.raw[c][t][i,:]`, with `i=0` being the cell, and `i=1,2,3,...` indicating the surrounding regions.\n",
    "\n",
    "Below we compare directly the raw ROI trace, the decontaminated trace, and the surrounding neuropil region traces."
   ]
  },
  {
   "cell_type": "code",
   "execution_count": null,
   "metadata": {},
   "outputs": [],
   "source": [
    "# get the total number of regions\n",
    "nRegions = experiment.nRegions\n",
    "\n",
    "# Select the ROI and trial to plot\n",
    "roi = 2\n",
    "trial = 1\n",
    "\n",
    "# Create the figure\n",
    "plt.figure(figsize=(12, 12))\n",
    "\n",
    "# Plot extracted traces for each neuropil subregion\n",
    "plt.subplot(2, 1, 1)\n",
    "# Plot trace of raw ROI signal\n",
    "plt.plot(\n",
    "    experiment.raw[roi, trial][0, :],\n",
    "    lw=2,\n",
    "    label=\"Raw ROI signal\",\n",
    "    color=cmap((roi * 2) % cmap.N),\n",
    ")\n",
    "# Plot traces from each neuropil region\n",
    "for i_neuropil in range(1, nRegions + 1):\n",
    "    alpha = i_neuropil / nRegions\n",
    "    plt.plot(\n",
    "        experiment.raw[roi, trial][i_neuropil, :],\n",
    "        lw=2,\n",
    "        label=\"Neuropil region {}\".format(i_neuropil),\n",
    "        color=\"k\",\n",
    "        alpha=alpha,\n",
    "    )\n",
    "plt.ylim([0, 125])\n",
    "plt.grid()\n",
    "plt.legend()\n",
    "plt.ylabel(\"Signal intensity (candela per unit area)\", fontsize=15)\n",
    "plt.title(\"ROI {},  Trial {}, neuropil region traces\".format(roi, trial), fontsize=15)\n",
    "\n",
    "# Plot the ROI signal\n",
    "plt.subplot(2, 1, 2)\n",
    "# Plot trace of raw ROI signal\n",
    "plt.plot(\n",
    "    experiment.raw[roi, trial][0, :], lw=2, label=\"Raw\", color=cmap((roi * 2) % cmap.N)\n",
    ")\n",
    "# Plot decontaminated signal matched to the ROI\n",
    "plt.plot(\n",
    "    experiment.result[roi, trial][0, :],\n",
    "    lw=2,\n",
    "    label=\"Decontaminated\",\n",
    "    color=cmap((roi * 2 + 1) % cmap.N),\n",
    ")\n",
    "\n",
    "plt.ylim([0, 125])\n",
    "plt.grid()\n",
    "plt.legend()\n",
    "plt.xlabel(\"Time (frame number)\", fontsize=15)\n",
    "plt.ylabel(\"Signal intensity (candela per unit area)\", fontsize=15)\n",
    "plt.title(\"ROI {},  Trial {}, raw and decontaminated\".format(roi, trial), fontsize=15)\n",
    "\n",
    "plt.show()"
   ]
  },
  {
   "cell_type": "markdown",
   "metadata": {},
   "source": [
    "### df/f<sub>0</sub>\n",
    "\n",
    "It is often useful to calculate the intensity of a signal relative to the baseline value, df/f<sub>0</sub>, for the traces.\n",
    "This can be done as follows.\n",
    "\n",
    "Note that by default, f<sub>0</sub> is determined as the minimum across all trials (all tiffs) to ensure that results are directly comparable between trials, but you can normalise each trial individually instead if you prefer by setting `across_trials=False`.\n",
    "\n",
    "Since FISSA is very good at removing contamination from the ROI signals, the minimum value on the decontaminated trace will typically be `0.`. Consequently, we use the minimum value of the (smoothed) raw signal to provide the f<sub>0</sub> from the raw trace for both the raw and decontaminated df/f<sub>0</sub>."
   ]
  },
  {
   "cell_type": "code",
   "execution_count": null,
   "metadata": {},
   "outputs": [],
   "source": [
    "sample_frequency = 10  # Hz\n",
    "\n",
    "experiment.calc_deltaf(freq=sample_frequency, across_trials=True)"
   ]
  },
  {
   "cell_type": "code",
   "execution_count": null,
   "metadata": {},
   "outputs": [],
   "source": [
    "# Plot sample df/f0 trace\n",
    "\n",
    "# Select the ROI and trial to plot\n",
    "roi = 2\n",
    "trial = 1\n",
    "\n",
    "# Create the figure\n",
    "plt.figure(figsize=(12, 6))\n",
    "\n",
    "n_frames = experiment.deltaf_result[roi, trial].shape[1]\n",
    "tt = np.arange(0, n_frames, dtype=np.float64) / sample_frequency\n",
    "\n",
    "plt.plot(\n",
    "    tt,\n",
    "    experiment.deltaf_raw[roi, trial][0, :],\n",
    "    lw=2,\n",
    "    label=\"Raw\",\n",
    "    color=cmap((roi * 2) % cmap.N),\n",
    ")\n",
    "plt.plot(\n",
    "    tt,\n",
    "    experiment.deltaf_result[roi, trial][0, :],\n",
    "    lw=2,\n",
    "    label=\"Decontaminated\",\n",
    "    color=cmap((roi * 2 + 1) % cmap.N),\n",
    ")\n",
    "\n",
    "plt.title(\"ROI {},  Trial {}\".format(roi, trial), fontsize=15)\n",
    "plt.xlabel(\"Time (s)\", fontsize=15)\n",
    "plt.ylabel(r\"$\\Delta f\\,/\\,f_0$\", fontsize=15)\n",
    "plt.grid()\n",
    "plt.legend()\n",
    "plt.show()"
   ]
  },
  {
   "cell_type": "code",
   "execution_count": null,
   "metadata": {},
   "outputs": [],
   "source": [
    "# Plot df/f0 for all ROIs and trials\n",
    "\n",
    "# Find the maximum df/f0 values for each ROI\n",
    "roi_max_raw = [\n",
    "    np.max(\n",
    "        [np.max(experiment.deltaf_raw[i_roi, i_trial][0]) for i_trial in range(n_trial)]\n",
    "    )\n",
    "    for i_roi in range(n_roi)\n",
    "]\n",
    "roi_max_result = [\n",
    "    np.max(\n",
    "        [\n",
    "            np.max(experiment.deltaf_result[i_roi, i_trial][0])\n",
    "            for i_trial in range(n_trial)\n",
    "        ]\n",
    "    )\n",
    "    for i_roi in range(n_roi)\n",
    "]\n",
    "roi_max = np.maximum(roi_max_raw, roi_max_result)\n",
    "\n",
    "# Plot our figure using subplot panels\n",
    "plt.figure(figsize=(16, 10))\n",
    "for i_roi in range(n_roi):\n",
    "    for i_trial in range(n_trial):\n",
    "        # Make subplot axes\n",
    "        i_subplot = 1 + i_trial * n_roi + i_roi\n",
    "        plt.subplot(n_trial, n_roi, i_subplot)\n",
    "        # Plot the data\n",
    "        n_frames = experiment.deltaf_result[i_roi, i_trial].shape[1]\n",
    "        tt = np.arange(0, n_frames, dtype=np.float64) / sample_frequency\n",
    "        plt.plot(\n",
    "            tt,\n",
    "            experiment.deltaf_raw[i_roi][i_trial][0, :],\n",
    "            label=\"Raw\",\n",
    "            color=cmap((i_roi * 2) % cmap.N),\n",
    "        )\n",
    "        plt.plot(\n",
    "            tt,\n",
    "            experiment.deltaf_result[i_roi][i_trial][0, :],\n",
    "            label=\"Decontaminated\",\n",
    "            color=cmap((i_roi * 2 + 1) % cmap.N),\n",
    "        )\n",
    "        # Labels and boiler plate\n",
    "        plt.ylim([-0.05 * roi_max[i_roi], roi_max[i_roi] * 1.05])\n",
    "        if i_roi == 0:\n",
    "            plt.ylabel(\"Trial {}\\n\\n\".format(i_trial + 1) + r\"$\\Delta f\\,/\\,f_0$\")\n",
    "        if i_trial == 0:\n",
    "            plt.title(\"ROI {}\".format(i_roi))\n",
    "            plt.legend()\n",
    "        if i_trial == n_trial - 1:\n",
    "            plt.xlabel(\"Time (s)\")\n",
    "\n",
    "plt.show()"
   ]
  },
  {
   "cell_type": "markdown",
   "metadata": {},
   "source": [
    "The figure above shows the df/f<sub>0</sub> for the raw signal from the annotated ROI location (pale), and the result after decontaminating the signal with FISSA (dark).\n",
    "For each figure, the baseline value f<sub>0</sub> is the same (taken from the raw signal).\n",
    "The hues match the ROI locations and fluorescence intensity traces from above.\n",
    "Each column shows the results from one of the ROI, and each row shows the results from one of the three trials."
   ]
  },
  {
   "cell_type": "markdown",
   "metadata": {},
   "source": [
    "## Exporting to MATLAB\n",
    "\n",
    "The results can easily be exported to a MATLAB-compatible matfile as follows.\n",
    "\n",
    "The output will appear in the `output_folder` we supplied to `experiment` when we created it."
   ]
  },
  {
   "cell_type": "code",
   "execution_count": null,
   "metadata": {},
   "outputs": [],
   "source": [
    "experiment.to_matfile()"
   ]
  },
  {
   "cell_type": "markdown",
   "metadata": {},
   "source": [
    "Loading `output_folder/separated.mat` in MATLAB will give you structs for all of FISSA's outputs.\n",
    "\n",
    "These interface similarly as `experiment.raw`, and `experiment.result` described above, with a few small differences.\n",
    "\n",
    "With the python interface, the outputs are 2d numpy.ndarrays each element of which is itself a 2d numpy.ndarrays.\n",
    "In comparison, when the output is loaded into MATLAB this becomes a 2d cell-array each element of which is a 2d matrix.\n",
    "\n",
    "Additionally, whilst Python indexes from 0, MATLAB indexes from 1 instead.\n",
    "As a consequence of this, the results seen on Python for a given roi and trial `experiment.result[roi, trial]` correspond to the index `S.result{roi + 1, trial + 1}` on MATLAB.\n",
    "\n",
    "Our first plot in this notebook can be replicated in MATLAB as follows:\n",
    "```octave\n",
    "% Load the FISSA output data\n",
    "S = load('fissa-example/separated.mat')\n",
    "% Select the third ROI, second trial\n",
    "% On Python, this is equivalent to roi = 2; trial = 1;\n",
    "roi = 3; trial = 2;\n",
    "% Plot the raw and result traces for the ROI signal\n",
    "figure; hold on;\n",
    "plot(S.raw{roi, trial}(1, :));\n",
    "plot(S.result{roi, trial}(1, :));\n",
    "title(sprintf('ROI %d, Trial %d', roi, trial));\n",
    "xlabel('Time (frame number)');\n",
    "ylabel('Signal intensity (candela per unit area)');\n",
    "legend({'Raw', 'Result'});\n",
    "grid on;\n",
    "box on;\n",
    "set(gca,'TickDir','out');\n",
    "```\n",
    "\n",
    "Assuming all ROIs are contiguous and described by a single contour, the mean image and ROI locations can be plotted in MATLAB as follows:\n",
    "```octave\n",
    "% Load the FISSA output data\n",
    "S = load('separated.mat')\n",
    "trial = 1;\n",
    "figure; hold on;\n",
    "% Plot the mean image\n",
    "imagesc(squeeze(S.means(trial, :, :)));\n",
    "colormap('gray');\n",
    "% Plot ROI locations\n",
    "for i_roi = 1:size(S.result, 1);\n",
    "    contour = S.roi_polys{i_roi, trial}{1};\n",
    "    plot(contour(:, 2), contour(:, 1));\n",
    "end\n",
    "set(gca, 'YDir', 'reverse');\n",
    "```"
   ]
  },
  {
   "cell_type": "markdown",
   "metadata": {},
   "source": [
    "## Addendum"
   ]
  },
  {
   "cell_type": "markdown",
   "metadata": {},
   "source": [
    "### Finding the TIFF files\n",
    "\n",
    "If you find something noteworthy in one of the traces and need to backreference to the corresponding TIFF file, you can look up the path to the TIFF file with `experiment.images`."
   ]
  },
  {
   "cell_type": "code",
   "execution_count": null,
   "metadata": {},
   "outputs": [],
   "source": [
    "trial_of_interest = 1\n",
    "\n",
    "print(experiment.images[trial_of_interest])"
   ]
  },
  {
   "cell_type": "markdown",
   "metadata": {},
   "source": [
    "## FISSA customisation settings\n",
    "\n",
    "FISSA has several user-definable settings, which can be set when defining the `fissa.Experiment` instance."
   ]
  },
  {
   "cell_type": "markdown",
   "metadata": {},
   "source": [
    "### Controlling verbosity\n",
    "\n",
    "The level of verbosity of FISSA can be controlled with the `verbosity` parameter.\n",
    "\n",
    "The default is `verbosity=1`.\n",
    "\n",
    "If the verbosity parameter is higher, FISSA will print out more information while it is processing.\n",
    "This can be helpful for debugging puproses.\n",
    "The verbosity reaches its maximum at `verbosity=6`.\n",
    "\n",
    "If `verbosity=0`, FISSA will run silently."
   ]
  },
  {
   "cell_type": "code",
   "execution_count": null,
   "metadata": {},
   "outputs": [],
   "source": [
    "# Call FISSA with elevated verbosity\n",
    "experiment = fissa.Experiment(images_location, rois_location, verbosity=2)\n",
    "experiment.separate()"
   ]
  },
  {
   "cell_type": "markdown",
   "metadata": {},
   "source": [
    "### Analysis parameters\n",
    "\n",
    "The analysis performed by FISSA can be controlled with several parameters."
   ]
  },
  {
   "cell_type": "code",
   "execution_count": null,
   "metadata": {},
   "outputs": [],
   "source": [
    "# FISSA uses multiprocessing to speed up its processing.\n",
    "# By default, it will spawn one worker per CPU core on your machine.\n",
    "# However, if you have a lot of cores and not much memory, you many not\n",
    "# be able to suport so many workers simultaneously.\n",
    "# In particular, this can be problematic during the data preparation step\n",
    "# in which tiffs are loaded into memory.\n",
    "# The default number of cores for the data preparation and separation steps\n",
    "# can be changed as follows.\n",
    "ncores_preparation = 4  # If None, uses all available cores\n",
    "ncores_separation = None  # if None, uses all available cores\n",
    "\n",
    "# By default, FISSA uses 4 subregions for the neuropil region.\n",
    "# If you have very dense data with a lot of different signals per unit area,\n",
    "# you may wish to increase the number of regions.\n",
    "nRegions = 8\n",
    "\n",
    "# By default, each surrounding region has the same area as the central ROI.\n",
    "# i.e. expansion = 1\n",
    "# However, you may wish to increase or decrease this value.\n",
    "expansion = 0.75\n",
    "\n",
    "# The degree of signal sparsity can be controlled with the alpha parameter.\n",
    "alpha = 0.02\n",
    "\n",
    "# If you change the experiment parameters, you need to change the cache directory too.\n",
    "# Otherwise FISSA will try to reload the results from the previous run instead of\n",
    "# computing the new results. FISSA will throw an error if you try to load data which\n",
    "# was generated with different analysis parameters to its parameters.\n",
    "output_folder2 = output_folder + \"_alt\"\n",
    "\n",
    "# Set up a FISSA experiment with these parameters\n",
    "experiment = fissa.Experiment(\n",
    "    images_location,\n",
    "    rois_location,\n",
    "    output_folder2,\n",
    "    nRegions=nRegions,\n",
    "    expansion=expansion,\n",
    "    alpha=alpha,\n",
    "    ncores_preparation=ncores_preparation,\n",
    "    ncores_separation=ncores_separation,\n",
    ")\n",
    "\n",
    "# Extract the data with these new parameters.\n",
    "experiment.separate()"
   ]
  },
  {
   "cell_type": "markdown",
   "metadata": {},
   "source": [
    "We can plot the new results for our example trace from before. Although we doubled the number of neuropil regions around the cell, very little has changed for this example because there were not many sources of contamination.\n",
    "\n",
    "However, there will be more of a difference if your data has more neuropil sources per unit area within the image."
   ]
  },
  {
   "cell_type": "code",
   "execution_count": null,
   "metadata": {},
   "outputs": [],
   "source": [
    "# Plot one ROI along with its neuropil regions\n",
    "\n",
    "# Select which ROI and trial to plot\n",
    "trial = 0\n",
    "roi = 3\n",
    "\n",
    "# Plot the mean image for the trial\n",
    "plt.figure(figsize=(7, 7))\n",
    "plt.imshow(experiment.means[trial], cmap=\"gray\")\n",
    "# Get axes limits\n",
    "XLIM = plt.xlim()\n",
    "YLIM = plt.ylim()\n",
    "\n",
    "# Check the number of neuropil\n",
    "n_npil = len(experiment.roi_polys[roi, trial]) - 1\n",
    "\n",
    "# Plot all the neuropil regions in yellow\n",
    "for i_npil in range(1, n_npil + 1):\n",
    "    for contour in experiment.roi_polys[roi, trial][i_npil]:\n",
    "        plt.fill(\n",
    "            contour[:, 1],\n",
    "            contour[:, 0],\n",
    "            facecolor=\"none\",\n",
    "            edgecolor=\"y\",\n",
    "            alpha=0.6,\n",
    "        )\n",
    "\n",
    "# Plot the ROI outline in red\n",
    "for contour in experiment.roi_polys[roi, trial][0]:\n",
    "    plt.fill(\n",
    "        contour[:, 1],\n",
    "        contour[:, 0],\n",
    "        facecolor=\"none\",\n",
    "        edgecolor=\"r\",\n",
    "        alpha=0.6,\n",
    "    )\n",
    "\n",
    "# Reset axes limits\n",
    "plt.xlim(XLIM)\n",
    "plt.ylim(YLIM)\n",
    "\n",
    "plt.title(\"ROI {}, and its {} neuropil regions\".format(roi, experiment.nRegions))\n",
    "plt.show()"
   ]
  },
  {
   "cell_type": "code",
   "execution_count": null,
   "metadata": {},
   "outputs": [],
   "source": [
    "# Plot the new results\n",
    "roi = 2\n",
    "trial = 1\n",
    "\n",
    "plt.figure(figsize=(12, 6))\n",
    "\n",
    "plt.plot(\n",
    "    experiment.raw[roi, trial][0, :], lw=2, label=\"Raw\", color=cmap((roi * 2) % cmap.N)\n",
    ")\n",
    "plt.plot(\n",
    "    experiment.result[roi, trial][0, :],\n",
    "    lw=2,\n",
    "    label=\"Decontaminated\",\n",
    "    color=cmap((roi * 2 + 1) % cmap.N),\n",
    ")\n",
    "\n",
    "plt.title(\"ROI {},  Trial {}\".format(roi, i_trial), fontsize=15)\n",
    "plt.xlabel(\"Time (frame number)\", fontsize=15)\n",
    "plt.ylabel(\"Signal intensity (candela per unit area)\", fontsize=15)\n",
    "plt.grid()\n",
    "plt.legend()\n",
    "plt.show()"
   ]
  },
  {
   "cell_type": "markdown",
   "metadata": {},
   "source": [
    "Alternatively, these settings can be refined after creating the `experiment` object, as follows."
   ]
  },
  {
   "cell_type": "code",
   "execution_count": null,
   "metadata": {},
   "outputs": [],
   "source": [
    "experiment.ncores_preparation = 8\n",
    "experiment.alpha = 0.02\n",
    "experiment.expansion = 0.75"
   ]
  },
  {
   "cell_type": "markdown",
   "metadata": {},
   "source": [
    "### Loading data from large tiff files\n",
    "\n",
    "By default, FISSA loads entire tiff files into memory at once and then manipulates all ROIs within the tiff.\n",
    "This can sometimes be problematic when working with very large tiff files which can not be loaded into memory all at once.\n",
    "If you have out-of-memory problems, you can activate FISSA's low memory mode, which will cause it to manipulate each tiff file frame-by-frame."
   ]
  },
  {
   "cell_type": "code",
   "execution_count": null,
   "metadata": {},
   "outputs": [],
   "source": [
    "experiment = fissa.Experiment(\n",
    "    images_location, rois_location, output_folder, lowmemory_mode=True\n",
    ")\n",
    "experiment.separate(redo_prep=True)"
   ]
  },
  {
   "cell_type": "markdown",
   "metadata": {},
   "source": [
    "### Handling custom formats\n",
    "\n",
    "By default, FISSA can use tiff files or numpy arrays as its input image data, and numpy arrays or ImageJ zip files for the ROI definitions.\n",
    "However, it is also possible to extend this functionality and integrate other data formats into FISSA in order to work with other custom and/or proprietary formats that might be used in your lab.\n",
    "\n",
    "This is done by defining your own DataHandler class.\n",
    "Your custom data handler should be a subclass of [fissa.extraction.DataHandlerAbstract](https://fissa.readthedocs.io/en/stable/source/packages/fissa.extraction.html#fissa.extraction.DataHandlerAbstract), and implement the following methods:\n",
    "\n",
    "- `image2array(image)` takes an image of whatever format and turns it into *data* (typically a numpy.ndarray).\n",
    "- `getmean(data)` calculates the 2D mean for a video defined by *data*.\n",
    "- `rois2masks(rois, data)` creates masks from the rois inputs, of appropriate size *data*.\n",
    "- `extracttraces(data, masks)` applies the *masks* to *data* in order to extract traces.\n",
    "\n",
    "See [fissa.extraction.DataHandlerAbstract](https://fissa.readthedocs.io/en/stable/source/packages/fissa.extraction.html#fissa.extraction.DataHandlerAbstract) for further description for each of the methods.\n",
    "\n",
    "If you only need to handle a new *image* input format, which is converted to a numpy.ndarray, you may find it is easier to create a subclass of the default datahandler, [fissa.extraction.DataHandlerTifffile](https://fissa.readthedocs.io/en/stable/source/packages/fissa.extraction.html#fissa.extraction.DataHandlerTifffile).\n",
    "In this case, only the `image2array` method needs to be overwritten and the other methods can be left as they are."
   ]
  },
  {
   "cell_type": "code",
   "execution_count": null,
   "metadata": {},
   "outputs": [],
   "source": [
    "from fissa.extraction import DataHandlerTifffile\n",
    "\n",
    "# Define a custom datahandler class.\n",
    "#\n",
    "# By inheriting from DataHandlerTifffile, most methods are defined\n",
    "# appropriately. In this case, we only need to overwrite the\n",
    "# `image2array` method to work with our custom data format.\n",
    "\n",
    "\n",
    "class DataHandlerCustom(DataHandlerTifffile):\n",
    "    @staticmethod\n",
    "    def image2array(image):\n",
    "        \"\"\"Open a given image file as a custom instance.\n",
    "\n",
    "        Parameters\n",
    "        ----------\n",
    "        image : custom\n",
    "            Your image format (avi, hdf5, etc.)\n",
    "\n",
    "        Returns\n",
    "        -------\n",
    "        numpy.ndarray\n",
    "            A 3D array containing the data, shaped\n",
    "            ``(frames, y_coordinate, x_coordinate)``.\n",
    "        \"\"\"\n",
    "        # Some custom code\n",
    "        pass\n",
    "\n",
    "\n",
    "# Then pass an instance of this class to fissa.Experiment when creating\n",
    "# a new experiment.\n",
    "datahandler = DataHandlerCustom()\n",
    "\n",
    "experiment = fissa.Experiment(\n",
    "    images_location,\n",
    "    rois_location,\n",
    "    datahandler=datahandler,\n",
    ")"
   ]
  },
  {
   "cell_type": "markdown",
   "metadata": {},
   "source": [
    "For advanced users that want to entirely replace the DataHandler with their own methods, you can also inherit a class from the abstract class, [fissa.extraction.DataHandlerAbstract](https://fissa.readthedocs.io/en/stable/source/packages/fissa.extraction.html#fissa.extraction.DataHandlerAbstract).\n",
    "This can be useful if you want to integrate FISSA into your workflow without changing everything into the numpy array formats that FISSA usually uses internally."
   ]
  }
 ],
 "metadata": {
  "kernelspec": {
   "display_name": "Python 3",
   "language": "python",
   "name": "python3"
  },
  "language_info": {
   "codemirror_mode": {
    "name": "ipython",
    "version": 3
   },
   "file_extension": ".py",
   "mimetype": "text/x-python",
   "name": "python",
   "nbconvert_exporter": "python",
   "pygments_lexer": "ipython3",
   "version": "3.8.2"
  }
 },
 "nbformat": 4,
 "nbformat_minor": 1
}
